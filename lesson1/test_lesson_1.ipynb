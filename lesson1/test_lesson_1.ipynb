{
 "cells": [
  {
   "cell_type": "code",
   "execution_count": 1,
   "id": "400266dc-bc68-4af0-9ad4-f1efcc86532e",
   "metadata": {},
   "outputs": [
    {
     "name": "stdout",
     "output_type": "stream",
     "text": [
      "Hello, there\n"
     ]
    }
   ],
   "source": [
    "print(\"Hello, there\")"
   ]
  },
  {
   "cell_type": "code",
   "execution_count": 4,
   "id": "f5af7a4c-f800-4fae-960f-11d9777d01b8",
   "metadata": {},
   "outputs": [
    {
     "data": {
      "text/plain": [
       "'2.0.3'"
      ]
     },
     "execution_count": 4,
     "metadata": {},
     "output_type": "execute_result"
    }
   ],
   "source": [
    "import pandas\n",
    "pandas.__version__"
   ]
  },
  {
   "cell_type": "code",
   "execution_count": 1,
   "id": "c5ed1dcc-f7c3-4448-b62f-18250e47c31b",
   "metadata": {},
   "outputs": [
    {
     "data": {
      "text/plain": [
       "1"
      ]
     },
     "execution_count": 1,
     "metadata": {},
     "output_type": "execute_result"
    }
   ],
   "source": [
    "1"
   ]
  },
  {
   "cell_type": "code",
   "execution_count": 2,
   "id": "2d92bd64-afae-40cd-a304-1c39eb16a065",
   "metadata": {},
   "outputs": [
    {
     "data": {
      "text/plain": [
       "1.0"
      ]
     },
     "execution_count": 2,
     "metadata": {},
     "output_type": "execute_result"
    }
   ],
   "source": [
    "1.0"
   ]
  },
  {
   "cell_type": "code",
   "execution_count": 3,
   "id": "af930659-dbc0-48b6-b175-733e63b5b5d2",
   "metadata": {},
   "outputs": [
    {
     "data": {
      "text/plain": [
       "int"
      ]
     },
     "execution_count": 3,
     "metadata": {},
     "output_type": "execute_result"
    }
   ],
   "source": [
    "type(1)"
   ]
  },
  {
   "cell_type": "code",
   "execution_count": 4,
   "id": "f62d3af1-1a45-47ac-99d2-49123044e6b1",
   "metadata": {},
   "outputs": [
    {
     "data": {
      "text/plain": [
       "float"
      ]
     },
     "execution_count": 4,
     "metadata": {},
     "output_type": "execute_result"
    }
   ],
   "source": [
    "type(1.0)"
   ]
  },
  {
   "cell_type": "code",
   "execution_count": 5,
   "id": "06ac6a2a-a122-4913-b83c-862aaaee5eb4",
   "metadata": {},
   "outputs": [
    {
     "data": {
      "text/plain": [
       "4"
      ]
     },
     "execution_count": 5,
     "metadata": {},
     "output_type": "execute_result"
    }
   ],
   "source": [
    "1+3"
   ]
  },
  {
   "cell_type": "code",
   "execution_count": 6,
   "id": "7b7756b5-e7ef-41dd-a223-dfc15fe9c3f1",
   "metadata": {},
   "outputs": [
    {
     "data": {
      "text/plain": [
       "8"
      ]
     },
     "execution_count": 6,
     "metadata": {},
     "output_type": "execute_result"
    }
   ],
   "source": [
    "2*4"
   ]
  },
  {
   "cell_type": "code",
   "execution_count": 14,
   "id": "bed834cb-c424-441e-b2e9-97ff4469b7c0",
   "metadata": {},
   "outputs": [
    {
     "data": {
      "text/plain": [
       "1.5"
      ]
     },
     "execution_count": 14,
     "metadata": {},
     "output_type": "execute_result"
    }
   ],
   "source": [
    "# деление:\n",
    "3/2"
   ]
  },
  {
   "cell_type": "code",
   "execution_count": 11,
   "id": "b83b3f31-c0bd-42b5-ab94-8bd39aed9ca9",
   "metadata": {},
   "outputs": [
    {
     "data": {
      "text/plain": [
       "16"
      ]
     },
     "execution_count": 11,
     "metadata": {},
     "output_type": "execute_result"
    }
   ],
   "source": [
    "# возведение в степень:\n",
    "2**4"
   ]
  },
  {
   "cell_type": "code",
   "execution_count": 21,
   "id": "69a6c776-562d-4847-911c-8440adbfd7e2",
   "metadata": {},
   "outputs": [
    {
     "data": {
      "text/plain": [
       "0"
      ]
     },
     "execution_count": 21,
     "metadata": {},
     "output_type": "execute_result"
    }
   ],
   "source": [
    "# остаток отделения\n",
    "4%2"
   ]
  },
  {
   "cell_type": "code",
   "execution_count": 20,
   "id": "b7d8cd82-9e86-4b3f-b263-e31bce646d63",
   "metadata": {},
   "outputs": [
    {
     "data": {
      "text/plain": [
       "1"
      ]
     },
     "execution_count": 20,
     "metadata": {},
     "output_type": "execute_result"
    }
   ],
   "source": [
    "# остаток отделения\n",
    "5%2"
   ]
  },
  {
   "cell_type": "code",
   "execution_count": 23,
   "id": "c4889bed-0d57-4d15-acf1-7868d33f4d5f",
   "metadata": {},
   "outputs": [
    {
     "data": {
      "text/plain": [
       "22"
      ]
     },
     "execution_count": 23,
     "metadata": {},
     "output_type": "execute_result"
    }
   ],
   "source": [
    "# сначала умножение, потом деление, сложение и вычитание\n",
    "2+3*5+5"
   ]
  },
  {
   "cell_type": "code",
   "execution_count": 25,
   "id": "aec19af6-eda5-48ce-aa7c-47357bd7266d",
   "metadata": {},
   "outputs": [
    {
     "data": {
      "text/plain": [
       "9.0"
      ]
     },
     "execution_count": 25,
     "metadata": {},
     "output_type": "execute_result"
    }
   ],
   "source": [
    "# сначала умножение, потом деление, сложение и вычитание\n",
    "2+4/2+5"
   ]
  },
  {
   "cell_type": "code",
   "execution_count": 32,
   "id": "74f83010-8002-4298-8414-97119d6e2a3a",
   "metadata": {},
   "outputs": [
    {
     "data": {
      "text/plain": [
       "4.0"
      ]
     },
     "execution_count": 32,
     "metadata": {},
     "output_type": "execute_result"
    }
   ],
   "source": [
    "# сначала умножение, потом деление, потом порядку\n",
    "2-6/2+5"
   ]
  },
  {
   "cell_type": "code",
   "execution_count": 34,
   "id": "1facb0a3-af92-4f5f-be69-695675bd5407",
   "metadata": {},
   "outputs": [
    {
     "data": {
      "text/plain": [
       "5.0"
      ]
     },
     "execution_count": 34,
     "metadata": {},
     "output_type": "execute_result"
    }
   ],
   "source": [
    "#сначала умножение/деление потом все остальное по порядку\n",
    "2-4/2+5"
   ]
  },
  {
   "cell_type": "code",
   "execution_count": 36,
   "id": "aa67525f-d2d6-482b-89f9-882107f8b1f3",
   "metadata": {},
   "outputs": [
    {
     "name": "stdout",
     "output_type": "stream",
     "text": [
      "my name is Tonny and my phone number 3333333\n"
     ]
    }
   ],
   "source": [
    "print('my name is {myname} and my phone number {phone_number}'.format(myname=\"Tonny\", phone_number=3333333))"
   ]
  },
  {
   "cell_type": "code",
   "execution_count": null,
   "id": "d94d58d1-06e6-49bc-929b-6ba603f5a8c7",
   "metadata": {},
   "outputs": [],
   "source": []
  }
 ],
 "metadata": {
  "kernelspec": {
   "display_name": "Python 3 (ipykernel)",
   "language": "python",
   "name": "python3"
  },
  "language_info": {
   "codemirror_mode": {
    "name": "ipython",
    "version": 3
   },
   "file_extension": ".py",
   "mimetype": "text/x-python",
   "name": "python",
   "nbconvert_exporter": "python",
   "pygments_lexer": "ipython3",
   "version": "3.10.14"
  }
 },
 "nbformat": 4,
 "nbformat_minor": 5
}
