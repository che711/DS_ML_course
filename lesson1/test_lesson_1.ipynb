{
 "cells": [
  {
   "cell_type": "code",
   "execution_count": 1,
   "id": "80011136",
   "metadata": {},
   "outputs": [
    {
     "name": "stdout",
     "output_type": "stream",
     "text": [
      "Hello, there\n"
     ]
    }
   ],
   "source": [
    "print(\"Hello, there\")"
   ]
  },
  {
   "cell_type": "code",
   "execution_count": 4,
   "id": "13e0561c",
   "metadata": {},
   "outputs": [
    {
     "data": {
      "text/plain": [
       "'2.0.3'"
      ]
     },
     "execution_count": 4,
     "metadata": {},
     "output_type": "execute_result"
    }
   ],
   "source": [
    "import pandas\n",
    "pandas.__version__"
   ]
  },
  {
   "cell_type": "code",
   "execution_count": 1,
   "id": "b0e81fb3",
   "metadata": {},
   "outputs": [
    {
     "data": {
      "text/plain": [
       "1"
      ]
     },
     "execution_count": 1,
     "metadata": {},
     "output_type": "execute_result"
    }
   ],
   "source": [
    "1"
   ]
  },
  {
   "cell_type": "code",
   "execution_count": 2,
   "id": "d26fd764",
   "metadata": {},
   "outputs": [
    {
     "data": {
      "text/plain": [
       "1.0"
      ]
     },
     "execution_count": 2,
     "metadata": {},
     "output_type": "execute_result"
    }
   ],
   "source": [
    "1.0"
   ]
  },
  {
   "cell_type": "code",
   "execution_count": 3,
   "id": "be97e0df",
   "metadata": {},
   "outputs": [
    {
     "data": {
      "text/plain": [
       "int"
      ]
     },
     "execution_count": 3,
     "metadata": {},
     "output_type": "execute_result"
    }
   ],
   "source": [
    "type(1)"
   ]
  },
  {
   "cell_type": "code",
   "execution_count": 4,
   "id": "3b329400",
   "metadata": {},
   "outputs": [
    {
     "data": {
      "text/plain": [
       "float"
      ]
     },
     "execution_count": 4,
     "metadata": {},
     "output_type": "execute_result"
    }
   ],
   "source": [
    "type(1.0)"
   ]
  },
  {
   "cell_type": "code",
   "execution_count": 5,
   "id": "05a210bb",
   "metadata": {},
   "outputs": [
    {
     "data": {
      "text/plain": [
       "4"
      ]
     },
     "execution_count": 5,
     "metadata": {},
     "output_type": "execute_result"
    }
   ],
   "source": [
    "1+3"
   ]
  },
  {
   "cell_type": "code",
   "execution_count": 6,
   "id": "9ab75562",
   "metadata": {},
   "outputs": [
    {
     "data": {
      "text/plain": [
       "8"
      ]
     },
     "execution_count": 6,
     "metadata": {},
     "output_type": "execute_result"
    }
   ],
   "source": [
    "2*4"
   ]
  },
  {
   "cell_type": "code",
   "execution_count": 14,
   "id": "2ff84260",
   "metadata": {},
   "outputs": [
    {
     "data": {
      "text/plain": [
       "1.5"
      ]
     },
     "execution_count": 14,
     "metadata": {},
     "output_type": "execute_result"
    }
   ],
   "source": [
    "# деление:\n",
    "3/2"
   ]
  },
  {
   "cell_type": "code",
   "execution_count": 11,
   "id": "ea418ffc",
   "metadata": {},
   "outputs": [
    {
     "data": {
      "text/plain": [
       "16"
      ]
     },
     "execution_count": 11,
     "metadata": {},
     "output_type": "execute_result"
    }
   ],
   "source": [
    "# возведение в степень:\n",
    "2**4"
   ]
  },
  {
   "cell_type": "code",
   "execution_count": 21,
   "id": "bae5f7ac",
   "metadata": {},
   "outputs": [
    {
     "data": {
      "text/plain": [
       "0"
      ]
     },
     "execution_count": 21,
     "metadata": {},
     "output_type": "execute_result"
    }
   ],
   "source": [
    "# остаток отделения\n",
    "4%2"
   ]
  },
  {
   "cell_type": "code",
   "execution_count": 20,
   "id": "f5fa96ea",
   "metadata": {},
   "outputs": [
    {
     "data": {
      "text/plain": [
       "1"
      ]
     },
     "execution_count": 20,
     "metadata": {},
     "output_type": "execute_result"
    }
   ],
   "source": [
    "# остаток отделения\n",
    "5%2"
   ]
  },
  {
   "cell_type": "code",
   "execution_count": 23,
   "id": "ada8f266",
   "metadata": {},
   "outputs": [
    {
     "data": {
      "text/plain": [
       "22"
      ]
     },
     "execution_count": 23,
     "metadata": {},
     "output_type": "execute_result"
    }
   ],
   "source": [
    "# сначала умножение, потом деление, сложение и вычитание\n",
    "2+3*5+5"
   ]
  },
  {
   "cell_type": "code",
   "execution_count": 25,
   "id": "f3cc1de0",
   "metadata": {},
   "outputs": [
    {
     "data": {
      "text/plain": [
       "9.0"
      ]
     },
     "execution_count": 25,
     "metadata": {},
     "output_type": "execute_result"
    }
   ],
   "source": [
    "# сначала умножение, потом деление, сложение и вычитание\n",
    "2+4/2+5"
   ]
  },
  {
   "cell_type": "code",
   "execution_count": 32,
   "id": "6e7bed8f",
   "metadata": {},
   "outputs": [
    {
     "data": {
      "text/plain": [
       "4.0"
      ]
     },
     "execution_count": 32,
     "metadata": {},
     "output_type": "execute_result"
    }
   ],
   "source": [
    "# сначала умножение, потом деление, потом порядку\n",
    "2-6/2+5"
   ]
  },
  {
   "cell_type": "code",
   "execution_count": 34,
   "id": "08f2da04",
   "metadata": {},
   "outputs": [
    {
     "data": {
      "text/plain": [
       "5.0"
      ]
     },
     "execution_count": 34,
     "metadata": {},
     "output_type": "execute_result"
    }
   ],
   "source": [
    "#сначала умножение/деление потом все остальное по порядку\n",
    "2-4/2+5"
   ]
  },
  {
   "cell_type": "code",
   "execution_count": 36,
   "id": "886c903e",
   "metadata": {},
   "outputs": [
    {
     "name": "stdout",
     "output_type": "stream",
     "text": [
      "my name is Tonny and my phone number 3333333\n"
     ]
    }
   ],
   "source": [
    "print('my name is {myname} and my phone number {phone_number}'.format(myname=\"Tonny\", phone_number=3333333))"
   ]
  },
  {
   "cell_type": "code",
   "execution_count": 3,
   "id": "da514ac5",
   "metadata": {},
   "outputs": [
    {
     "name": "stdout",
     "output_type": "stream",
     "text": [
      "['жизнь', 'cloud', 8, 'string', 234]\n",
      "string\n"
     ]
    }
   ],
   "source": [
    "my_list=['жизнь', 'cloud', 8, 'string', 234]\n",
    "data_1=my_list[-2]\n",
    "print(my_list)\n",
    "print(data_1)"
   ]
  },
  {
   "cell_type": "code",
   "execution_count": 5,
   "id": "e8e0de61",
   "metadata": {},
   "outputs": [
    {
     "name": "stdout",
     "output_type": "stream",
     "text": [
      "Full list: ['жизнь', 1987, 8, 'string', 234]\n",
      "Updated position: 1987\n"
     ]
    }
   ],
   "source": [
    "my_list[1] = 1987\n",
    "\n",
    "print(f\"Full list: {my_list}\")\n",
    "print(f\"Updated position: {my_list[1]}\")"
   ]
  },
  {
   "cell_type": "code",
   "execution_count": 6,
   "id": "81478f0f",
   "metadata": {},
   "outputs": [
    {
     "name": "stdout",
     "output_type": "stream",
     "text": [
      "my_list: ['жизнь', 1987, 8, 'string', 234, 'my']\n"
     ]
    }
   ],
   "source": [
    "my_list.append('my')\n",
    "print(f'my_list: {my_list}')"
   ]
  },
  {
   "cell_type": "code",
   "execution_count": 7,
   "id": "a2398319",
   "metadata": {},
   "outputs": [
    {
     "name": "stdout",
     "output_type": "stream",
     "text": [
      "new_list: [154, 888, [999, 23423, 'data']]\n",
      "new_list: [999, 23423, 'data']\n"
     ]
    }
   ],
   "source": [
    "new_list = [154, 888,[999, 23423, 'data']]\n",
    "print(f'new_list: {new_list}')\n",
    "print(f'new_list: {new_list[2]}')"
   ]
  },
  {
   "cell_type": "code",
   "execution_count": 12,
   "id": "279e35ec",
   "metadata": {},
   "outputs": [
    {
     "name": "stdout",
     "output_type": "stream",
     "text": [
      "full dictonary: {'key1': 'value1', 'key2': 'value2'}\n"
     ]
    }
   ],
   "source": [
    "dict = {'key1':'value1', 'key2':'value2'}\n",
    "print(f'full dictonary: {dict}')"
   ]
  },
  {
   "cell_type": "code",
   "execution_count": 17,
   "id": "87bb6758",
   "metadata": {},
   "outputs": [
    {
     "name": "stdout",
     "output_type": "stream",
     "text": [
      "second key/value: value2\n"
     ]
    }
   ],
   "source": [
    "print(f'second key/value: {dict[\"key2\"]}')"
   ]
  },
  {
   "cell_type": "code",
   "execution_count": 19,
   "id": "4bc6274a",
   "metadata": {},
   "outputs": [
    {
     "name": "stdout",
     "output_type": "stream",
     "text": [
      "set: {3432, 9, 'test', 'oops'}\n"
     ]
    }
   ],
   "source": [
    "set = {'test', 9, 'oops', 3432}\n",
    "print(f\"set: {set}\")"
   ]
  },
  {
   "cell_type": "code",
   "execution_count": null,
   "id": "af1e0a06",
   "metadata": {},
   "outputs": [],
   "source": [
    "set = {'test', 9, 'oops', 3432}\n",
    "print(f\"set: {set}\")"
   ]
  }
 ],
 "metadata": {
  "kernelspec": {
   "display_name": "Python 3 (ipykernel)",
   "language": "python",
   "name": "python3"
  },
  "language_info": {
   "codemirror_mode": {
    "name": "ipython",
    "version": 3
   },
   "file_extension": ".py",
   "mimetype": "text/x-python",
   "name": "python",
   "nbconvert_exporter": "python",
   "pygments_lexer": "ipython3",
   "version": "3.8.10"
  }
 },
 "nbformat": 4,
 "nbformat_minor": 5
}
