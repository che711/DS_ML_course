{
 "cells": [
  {
   "cell_type": "markdown",
   "metadata": {},
   "source": [
    "___\n",
    "\n",
    "<a href='http://www.pieriandata.com'><img src='../Pierian_Data_Logo.png'/></a>\n",
    "___\n",
    "<center><em>Авторские права принадлежат Pierian Data</em></center>\n",
    "<center><em>Для дополнительной информации посетите наш сайт <a href='http://www.pieriandata.com'>www.pieriandata.com</a></em></center>\n",
    "\n",
    "# Экспресс-курс по Python - упражнения\n",
    "\n",
    "Эти упражнения являются опциональными. Цель в том, чтобы проверить Ваши базовые знания Python. Если эти упражнения покажутся Вам уж слишком сложными и непонятными, то скорее всего у Вас недостаточно опыта программирования, чтобы продолжить этот курс. В этом случае имеет смысл сначала пройти другой наш курс по Python, который подходит для начинающих: **Полный Курс Python 3: от Новичка до Мастера (Питон, Пайтон)** ([ссылка на Stepik](https://stepik.org/a/130664), [ссылка на Udemy](https://www.udemy.com/course/complete-python-bootcamp-russian/?referralCode=C4474B876C493E8062DB)), и потом уже вернуться к этому курсу."
   ]
  },
  {
   "cell_type": "markdown",
   "metadata": {},
   "source": [
    "## Упражнения\n",
    "\n",
    "Ответьте на вопросы и выполните задания, указанные ниже **жирным** шрифтом. "
   ]
  },
  {
   "cell_type": "markdown",
   "metadata": {},
   "source": [
    "**Возведите 7 в степень 4**"
   ]
  },
  {
   "cell_type": "code",
   "execution_count": 1,
   "metadata": {},
   "outputs": [],
   "source": [
    "# напишите Ваш код в этой ячейке\n"
   ]
  },
  {
   "cell_type": "code",
   "execution_count": 1,
   "metadata": {},
   "outputs": [
    {
     "data": {
      "text/plain": [
       "2401"
      ]
     },
     "execution_count": 1,
     "metadata": {},
     "output_type": "execute_result"
    }
   ],
   "source": [
    "7**4"
   ]
  },
  {
   "cell_type": "markdown",
   "metadata": {},
   "source": [
    "**Разбейте строку ниже:**\n",
    "\n",
    "    s = \"Hi there Sam!\"\n",
    "    \n",
    "**на список из отдельных слов.**"
   ]
  },
  {
   "cell_type": "code",
   "execution_count": 122,
   "metadata": {},
   "outputs": [],
   "source": [
    "s = 'Hi there Sam!'"
   ]
  },
  {
   "cell_type": "code",
   "execution_count": 123,
   "metadata": {},
   "outputs": [
    {
     "data": {
      "text/plain": [
       "['Hi', 'there', 'Sam!']"
      ]
     },
     "execution_count": 123,
     "metadata": {},
     "output_type": "execute_result"
    }
   ],
   "source": [
    "# напишите Ваш код в этой ячейке\n",
    "s.split(' ')"
   ]
  },
  {
   "cell_type": "code",
   "execution_count": 124,
   "metadata": {},
   "outputs": [
    {
     "data": {
      "text/plain": [
       "['Hi', 'there', 'Sam!']"
      ]
     },
     "execution_count": 124,
     "metadata": {},
     "output_type": "execute_result"
    }
   ],
   "source": [
    "s.split(' ')"
   ]
  },
  {
   "cell_type": "markdown",
   "metadata": {},
   "source": [
    "**Используя переменные ниже:**\n",
    "\n",
    "    planet = \"Земля\"\n",
    "    diameter = 12742\n",
    "\n",
    "**Распечатайте строку ниже с помощью .format():**\n",
    "\n",
    "    Диаметр планеты Земля равен 12742 километров."
   ]
  },
  {
   "cell_type": "code",
   "execution_count": 20,
   "metadata": {},
   "outputs": [],
   "source": [
    "planet = \"Земля\"\n",
    "diameter = 12742"
   ]
  },
  {
   "cell_type": "code",
   "execution_count": 21,
   "metadata": {},
   "outputs": [],
   "source": [
    "# напишите Ваш код в этой ячейке"
   ]
  },
  {
   "cell_type": "code",
   "execution_count": 22,
   "metadata": {},
   "outputs": [
    {
     "name": "stdout",
     "output_type": "stream",
     "text": [
      "Диаметр планеты Земля равен 12742 километров.\n"
     ]
    }
   ],
   "source": [
    "print(f'Диаметр планеты {planet} равен {diameter} километров.')"
   ]
  },
  {
   "cell_type": "markdown",
   "metadata": {},
   "source": [
    "**Извлеките слово \"hello\" из вложенного списка, используя индексирование:**"
   ]
  },
  {
   "cell_type": "code",
   "execution_count": 127,
   "metadata": {},
   "outputs": [],
   "source": [
    "lst = [1,2,[3,4],[5,[100,200,['hello']],23,11],1,7]"
   ]
  },
  {
   "cell_type": "code",
   "execution_count": 128,
   "metadata": {},
   "outputs": [],
   "source": [
    "# напишите Ваш код в этой ячейке"
   ]
  },
  {
   "cell_type": "code",
   "execution_count": 129,
   "metadata": {},
   "outputs": [
    {
     "data": {
      "text/plain": [
       "'hello'"
      ]
     },
     "execution_count": 129,
     "metadata": {},
     "output_type": "execute_result"
    }
   ],
   "source": [
    "lst[3][1][2][0]"
   ]
  },
  {
   "cell_type": "markdown",
   "metadata": {},
   "source": [
    "**Извлеките слово \"hello\" из вложенного словаря. Запаситесь терпением, это может быть достаточно долго и скучно.**"
   ]
  },
  {
   "cell_type": "code",
   "execution_count": 1,
   "metadata": {},
   "outputs": [],
   "source": [
    "d = {'k1':[1,2,3,{'tricky':['oh','man','inception',{'target':[1,2,3,'hello']}]}]}"
   ]
  },
  {
   "cell_type": "code",
   "execution_count": 2,
   "metadata": {},
   "outputs": [
    {
     "name": "stdout",
     "output_type": "stream",
     "text": [
      "hello\n"
     ]
    }
   ],
   "source": [
    "list_1=[]\n",
    "list_2=[]\n",
    "list_3=[]\n",
    "list_4=[]\n",
    "for value in d.values():\n",
    "    list_1.append(value)\n",
    "    for itim in list_1:\n",
    "        list_2.append(itim)\n",
    "        for items in list_2:\n",
    "            list_3.append(items)\n",
    "            for data in list_3:\n",
    "                list_4 = data[3]\n",
    "                for hello in list_4.values():\n",
    "                    hello_word = hello[3]\n",
    "                    for finish in hello_word.values():\n",
    "                        for test in finish:\n",
    "                            if test == \"hello\": print(test)"
   ]
  },
  {
   "cell_type": "code",
   "execution_count": 125,
   "metadata": {},
   "outputs": [
    {
     "ename": "NameError",
     "evalue": "name 'lst' is not defined",
     "output_type": "error",
     "traceback": [
      "\u001b[0;31m---------------------------------------------------------------------------\u001b[0m",
      "\u001b[0;31mNameError\u001b[0m                                 Traceback (most recent call last)",
      "Cell \u001b[0;32mIn[125], line 1\u001b[0m\n\u001b[0;32m----> 1\u001b[0m \u001b[43mlst\u001b[49m[\u001b[38;5;241m1\u001b[39m][\u001b[38;5;241m2\u001b[39m]\n",
      "\u001b[0;31mNameError\u001b[0m: name 'lst' is not defined"
     ]
    }
   ],
   "source": []
  },
  {
   "cell_type": "markdown",
   "metadata": {},
   "source": [
    "**В чём основное отличие между кортежами (tuple) и списками (list)?**"
   ]
  },
  {
   "cell_type": "code",
   "execution_count": 121,
   "metadata": {},
   "outputs": [
    {
     "name": "stdout",
     "output_type": "stream",
     "text": [
      "Tuple: ('connot', 'be', 'changed'). List: ['can', 'be', 'updated', 'or', 'changed']\n"
     ]
    }
   ],
   "source": [
    "tuple = (\"connot\", \"be\", \"changed\")\n",
    "list = [\"can\", \"be\", \"updated\", \"or\", \"changed\"]\n",
    "print(f\"Tuple: {tuple}. List: {list}\")"
   ]
  },
  {
   "cell_type": "markdown",
   "metadata": {},
   "source": [
    "**Напишите функцию, которая извлекает домен из электронного адреса:**\n",
    "\n",
    "    user@domain.com\n",
    "    \n",
    "**Например, для адреса \"user@domain.com\" функция должна вернуть domain.com**"
   ]
  },
  {
   "cell_type": "code",
   "execution_count": 4,
   "metadata": {
    "jupyter": {
     "outputs_hidden": true
    }
   },
   "outputs": [],
   "source": [
    "# напишите Ваш код в этой ячейке\n",
    "def domainGet(email):\n",
    "    return email.split('@')[-1]"
   ]
  },
  {
   "cell_type": "code",
   "execution_count": 5,
   "metadata": {},
   "outputs": [
    {
     "data": {
      "text/plain": [
       "'domain.com'"
      ]
     },
     "execution_count": 5,
     "metadata": {},
     "output_type": "execute_result"
    }
   ],
   "source": [
    "# запустите для проверки\n",
    "domainGet('user@domain.com')"
   ]
  },
  {
   "cell_type": "code",
   "execution_count": 6,
   "metadata": {},
   "outputs": [
    {
     "data": {
      "text/plain": [
       "'domain.com'"
      ]
     },
     "execution_count": 6,
     "metadata": {},
     "output_type": "execute_result"
    }
   ],
   "source": [
    "domainGet('user@domain.com')"
   ]
  },
  {
   "cell_type": "markdown",
   "metadata": {},
   "source": [
    "**Напишите функцию, которая принимает на вход строку и возвращает True, если в строке содержится слово 'dog'. Можете не волноваться по поводу таких пограничных случаев, когда рядом со словом dog есть знаки препинания. Но обработайте ситуацию, когда слово dog может быть написано с большой буквы или большими буквами.**"
   ]
  },
  {
   "cell_type": "code",
   "execution_count": 10,
   "metadata": {
    "jupyter": {
     "outputs_hidden": true
    }
   },
   "outputs": [],
   "source": [
    "# напишите Ваш код в этой ячейке\n",
    "def findDog(st):\n",
    "    return str.split('dog')"
   ]
  },
  {
   "cell_type": "code",
   "execution_count": 11,
   "metadata": {},
   "outputs": [
    {
     "data": {
      "text/plain": [
       "['dog']"
      ]
     },
     "execution_count": 11,
     "metadata": {},
     "output_type": "execute_result"
    }
   ],
   "source": [
    "# запустите для проверки\n",
    "findDog('Is there a dog here?')"
   ]
  },
  {
   "cell_type": "code",
   "execution_count": 12,
   "metadata": {},
   "outputs": [
    {
     "data": {
      "text/plain": [
       "['dog']"
      ]
     },
     "execution_count": 12,
     "metadata": {},
     "output_type": "execute_result"
    }
   ],
   "source": [
    "findDog('Is there a Dog here?')"
   ]
  },
  {
   "cell_type": "markdown",
   "metadata": {},
   "source": [
    "**Напишите функцию, которая подсчитывает количество раз, сколько раз слово \"dog\" встречается в строке. Опять же, можете не обрабатывать пограничные случаи.**"
   ]
  },
  {
   "cell_type": "code",
   "execution_count": 50,
   "metadata": {},
   "outputs": [],
   "source": [
    "# напишите Ваш код в этой ячейке\n",
    "def countDog(st):\n",
    "    dog_counter=0\n",
    "    dogline = st.split(' ')\n",
    "    for doggy in dogline:\n",
    "        if doggy == 'dog': dog_counter += 1\n",
    "    print(dog_counter)"
   ]
  },
  {
   "cell_type": "code",
   "execution_count": 51,
   "metadata": {},
   "outputs": [
    {
     "name": "stdout",
     "output_type": "stream",
     "text": [
      "2\n"
     ]
    }
   ],
   "source": [
    "# запустите для проверки\n",
    "countDog('This dog runs faster than the other dog dude!')"
   ]
  },
  {
   "cell_type": "code",
   "execution_count": 52,
   "metadata": {},
   "outputs": [
    {
     "name": "stdout",
     "output_type": "stream",
     "text": [
      "2\n"
     ]
    }
   ],
   "source": [
    "countDog('This dog runs faster than the other dog dude!')"
   ]
  },
  {
   "cell_type": "markdown",
   "metadata": {},
   "source": [
    "### Финальная задача\n",
    "**Вы едете на автомобиле и немного превышаете скорость. Напишите функцию, которая вернёт три возможных ответа: \"Нет штрафа\", \"Маленький штраф\" или \"Большой штраф\":** \n",
    "- Если Ваша скорость меньше или равна 60, то результат \"Нет штрафа\".  \n",
    "- Если скорость от 61 до 80 включительно, то \"Маленький штраф\".  \n",
    "- Если же скорость больше 81, то это уже \"Большой штраф\".  \n",
    "\n",
    "**А также добавьте ещё такой момент - если у Вас сегодня День Рождения (укажите его как параметр функции с типом данных boolean), то в Ваш День Рождения все пороговые значения скорости повышаются на 5 во всех случаях.**"
   ]
  },
  {
   "cell_type": "code",
   "execution_count": 107,
   "metadata": {},
   "outputs": [],
   "source": [
    "# напишите Ваш код в этой ячейке\n",
    "def caught_speeding(speed, is_birthday=False):\n",
    "    print(f\"speed: {speed}, boolean: {is_birthday}\")\n",
    "    if is_birthday: speed += 5\n",
    "    if speed in range(61, 80): return (f\"Small tax, speed: {speed}\")\n",
    "    elif speed <=60: return (f\"There are no any taxes, speed: {speed}\")\n",
    "    else: return (f\"Big tax, speed: {speed}\")\n"
   ]
  },
  {
   "cell_type": "code",
   "execution_count": 108,
   "metadata": {},
   "outputs": [
    {
     "name": "stdout",
     "output_type": "stream",
     "text": [
      "speed: 60, boolean: True\n"
     ]
    },
    {
     "data": {
      "text/plain": [
       "'Small tax, speed: 65'"
      ]
     },
     "execution_count": 108,
     "metadata": {},
     "output_type": "execute_result"
    }
   ],
   "source": [
    "# запустите для проверки\n",
    "caught_speeding(60,True)"
   ]
  },
  {
   "cell_type": "code",
   "execution_count": 109,
   "metadata": {},
   "outputs": [
    {
     "name": "stdout",
     "output_type": "stream",
     "text": [
      "speed: 35, boolean: False\n"
     ]
    },
    {
     "data": {
      "text/plain": [
       "'There are no any taxes, speed: 35'"
      ]
     },
     "execution_count": 109,
     "metadata": {},
     "output_type": "execute_result"
    }
   ],
   "source": [
    "# запустите для проверки\n",
    "caught_speeding(35,False)"
   ]
  },
  {
   "cell_type": "code",
   "execution_count": 110,
   "metadata": {},
   "outputs": [
    {
     "name": "stdout",
     "output_type": "stream",
     "text": [
      "speed: 35, boolean: True\n"
     ]
    },
    {
     "data": {
      "text/plain": [
       "'There are no any taxes, speed: 40'"
      ]
     },
     "execution_count": 110,
     "metadata": {},
     "output_type": "execute_result"
    }
   ],
   "source": [
    "caught_speeding(35,True)"
   ]
  },
  {
   "cell_type": "code",
   "execution_count": 111,
   "metadata": {},
   "outputs": [
    {
     "name": "stdout",
     "output_type": "stream",
     "text": [
      "speed: 81, boolean: False\n"
     ]
    },
    {
     "data": {
      "text/plain": [
       "'Big tax, speed: 81'"
      ]
     },
     "execution_count": 111,
     "metadata": {},
     "output_type": "execute_result"
    }
   ],
   "source": [
    "caught_speeding(81,False)"
   ]
  },
  {
   "cell_type": "markdown",
   "metadata": {},
   "source": [
    "# Отличная работа!"
   ]
  },
  {
   "cell_type": "code",
   "execution_count": null,
   "metadata": {},
   "outputs": [],
   "source": []
  }
 ],
 "metadata": {
  "kernelspec": {
   "display_name": "Python 3 (ipykernel)",
   "language": "python",
   "name": "python3"
  },
  "language_info": {
   "codemirror_mode": {
    "name": "ipython",
    "version": 3
   },
   "file_extension": ".py",
   "mimetype": "text/x-python",
   "name": "python",
   "nbconvert_exporter": "python",
   "pygments_lexer": "ipython3",
   "version": "3.8.10"
  }
 },
 "nbformat": 4,
 "nbformat_minor": 4
}
