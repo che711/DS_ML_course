{
 "cells": [
  {
   "cell_type": "code",
   "execution_count": 3,
   "id": "9178875c-6b05-4382-b366-e4d85cda8ff2",
   "metadata": {},
   "outputs": [],
   "source": [
    "import numpy as np\n",
    "import pandas as pd\n",
    "import matplotlib as mpt"
   ]
  },
  {
   "cell_type": "code",
   "execution_count": null,
   "id": "5691b156-f83f-4ae2-a5ea-4b6abdd2c185",
   "metadata": {},
   "outputs": [],
   "source": []
  }
 ],
 "metadata": {
  "kernelspec": {
   "display_name": "Python 3 (ipykernel)",
   "language": "python",
   "name": "python3"
  },
  "language_info": {
   "codemirror_mode": {
    "name": "ipython",
    "version": 3
   },
   "file_extension": ".py",
   "mimetype": "text/x-python",
   "name": "python",
   "nbconvert_exporter": "python",
   "pygments_lexer": "ipython3",
   "version": "3.12.3"
  }
 },
 "nbformat": 4,
 "nbformat_minor": 5
}
