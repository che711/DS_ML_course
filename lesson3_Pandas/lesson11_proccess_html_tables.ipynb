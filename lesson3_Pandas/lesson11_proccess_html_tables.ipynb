{
 "cells": [
  {
   "cell_type": "code",
   "execution_count": 18,
   "id": "03c043d5-8dfe-4482-bdc9-9f3e4aac485f",
   "metadata": {},
   "outputs": [],
   "source": [
    "import pandas as pd"
   ]
  },
  {
   "cell_type": "code",
   "execution_count": 26,
   "id": "499e52fd-c2f1-4938-a77b-1e7b93c48610",
   "metadata": {},
   "outputs": [],
   "source": [
    "#url = 'https://en.wikipedia.org/wiki/World_population'\n",
    "url = 'World population - Wikipedia.html'"
   ]
  },
  {
   "cell_type": "code",
   "execution_count": 27,
   "id": "fc95f393-d922-4985-af53-8d6f2409e38f",
   "metadata": {},
   "outputs": [
    {
     "data": {
      "text/plain": [
       "30"
      ]
     },
     "execution_count": 27,
     "metadata": {},
     "output_type": "execute_result"
    }
   ],
   "source": [
    "tables = pd.read_html(url)\n",
    "len(tables)"
   ]
  },
  {
   "cell_type": "code",
   "execution_count": 28,
   "id": "970bf679-2137-4a1b-b798-ce8df44ace1a",
   "metadata": {},
   "outputs": [
    {
     "name": "stdout",
     "output_type": "stream",
     "text": [
      "World population - Wikipedia.html     lesson5_missing_data.ipynb\n",
      "lesson10_process_csv.ipynb            lesson5_missing_data.py\n",
      "lesson11_proccess_html_tables.ipynb   lesson6_groupedby.ipynb\n",
      "lesson1_Series.ipynb                  lesson6_groupedby.py\n",
      "lesson1_Series.py                     lesson7_concatenations.ipynb\n",
      "lesson2_DataFrames.ipynb              lesson7_concatenations.py\n",
      "lesson2_DataFrames.py                 lesson8_text_methods.ipynb\n",
      "lesson3_filtering_by_condition.ipynb  lesson8_text_methods.py\n",
      "lesson3_filtering_by_condition.py     lesson9_datetime.ipynb\n",
      "lesson4_usefull_methods.ipynb         lesson9_datetime.py\n",
      "lesson4_usfull_methods.py             test_example.csv\n"
     ]
    }
   ],
   "source": [
    "ls\n"
   ]
  },
  {
   "cell_type": "code",
   "execution_count": null,
   "id": "6b5329e4-81ad-46ff-b332-d82485dac5f3",
   "metadata": {},
   "outputs": [],
   "source": []
  },
  {
   "cell_type": "code",
   "execution_count": null,
   "id": "e51588b2-7729-433f-8302-5fb37fbeb2da",
   "metadata": {},
   "outputs": [],
   "source": []
  }
 ],
 "metadata": {
  "kernelspec": {
   "display_name": "Python 3 (ipykernel)",
   "language": "python",
   "name": "python3"
  },
  "language_info": {
   "codemirror_mode": {
    "name": "ipython",
    "version": 3
   },
   "file_extension": ".py",
   "mimetype": "text/x-python",
   "name": "python",
   "nbconvert_exporter": "python",
   "pygments_lexer": "ipython3",
   "version": "3.12.2"
  }
 },
 "nbformat": 4,
 "nbformat_minor": 5
}
