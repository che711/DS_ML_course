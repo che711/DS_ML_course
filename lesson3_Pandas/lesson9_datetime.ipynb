{
 "cells": [
  {
   "cell_type": "code",
   "execution_count": 5,
   "id": "c0433ebb-13d3-4c3e-a67c-ea5a86594c28",
   "metadata": {},
   "outputs": [],
   "source": [
    "import numpy as np\n",
    "import pandas as pd\n",
    "\n",
    "from datetime import datetime"
   ]
  },
  {
   "cell_type": "code",
   "execution_count": 8,
   "id": "ff24fbc5-4766-4e89-9bc7-e0082ed3a8e9",
   "metadata": {},
   "outputs": [],
   "source": [
    "myyear = 2015\n",
    "mymonth = 1\n",
    "myday = 1\n",
    "myhour = 2\n",
    "mymin = 30\n",
    "mysec = 15"
   ]
  },
  {
   "cell_type": "code",
   "execution_count": 10,
   "id": "672bdadb-0d09-4129-88f7-cc9d13144bf3",
   "metadata": {},
   "outputs": [
    {
     "data": {
      "text/plain": [
       "datetime.datetime(2015, 1, 1, 0, 0)"
      ]
     },
     "execution_count": 10,
     "metadata": {},
     "output_type": "execute_result"
    }
   ],
   "source": [
    "mydate = datetime(myyear, mymonth, myday)\n",
    "mydate"
   ]
  },
  {
   "cell_type": "code",
   "execution_count": 11,
   "id": "976aa215-cac6-4887-8b90-c28dc7662d91",
   "metadata": {},
   "outputs": [
    {
     "data": {
      "text/plain": [
       "datetime.datetime(2015, 1, 1, 2, 30, 15)"
      ]
     },
     "execution_count": 11,
     "metadata": {},
     "output_type": "execute_result"
    }
   ],
   "source": [
    "mydatetime = datetime(myyear, mymonth, myday, myhour, mymin, mysec)\n",
    "mydatetime"
   ]
  },
  {
   "cell_type": "code",
   "execution_count": 12,
   "id": "3fca422c-d03a-40d7-ab19-b6f5af8cdbab",
   "metadata": {},
   "outputs": [
    {
     "data": {
      "text/plain": [
       "2015"
      ]
     },
     "execution_count": 12,
     "metadata": {},
     "output_type": "execute_result"
    }
   ],
   "source": [
    "mydatetime.year"
   ]
  },
  {
   "cell_type": "code",
   "execution_count": 13,
   "id": "23961b8b-457b-4955-bc32-0e68820b2b27",
   "metadata": {},
   "outputs": [],
   "source": [
    "myser = pd.Series(['Nov 3, 1990','2000-01-01', None])"
   ]
  },
  {
   "cell_type": "code",
   "execution_count": 14,
   "id": "3cfc8d44-503b-4bf5-8d19-e1c3c68f4eaa",
   "metadata": {},
   "outputs": [
    {
     "data": {
      "text/plain": [
       "0    Nov 3, 1990\n",
       "1     2000-01-01\n",
       "2           None\n",
       "dtype: object"
      ]
     },
     "execution_count": 14,
     "metadata": {},
     "output_type": "execute_result"
    }
   ],
   "source": [
    "myser"
   ]
  },
  {
   "cell_type": "code",
   "execution_count": null,
   "id": "a159413f-9017-4bd9-b818-9a249a83c971",
   "metadata": {},
   "outputs": [],
   "source": []
  }
 ],
 "metadata": {
  "kernelspec": {
   "display_name": "Python 3 (ipykernel)",
   "language": "python",
   "name": "python3"
  },
  "language_info": {
   "codemirror_mode": {
    "name": "ipython",
    "version": 3
   },
   "file_extension": ".py",
   "mimetype": "text/x-python",
   "name": "python",
   "nbconvert_exporter": "python",
   "pygments_lexer": "ipython3",
   "version": "3.12.2"
  }
 },
 "nbformat": 4,
 "nbformat_minor": 5
}
