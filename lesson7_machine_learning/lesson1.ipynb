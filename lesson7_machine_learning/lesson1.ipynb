{
 "cells": [
  {
   "cell_type": "code",
   "execution_count": 1,
   "id": "7074f8c9-b8c6-4780-a93d-571203e6909b",
   "metadata": {},
   "outputs": [
    {
     "name": "stdout",
     "output_type": "stream",
     "text": [
      "Hello, Machine Learning\n"
     ]
    }
   ],
   "source": [
    "print('Hello, Machine Learning')"
   ]
  },
  {
   "cell_type": "markdown",
   "id": "c2a1ee96-0bb3-4e26-98f8-3ff4128fde23",
   "metadata": {},
   "source": [
    "### Обучение модели происходит на исторических данных. 70% используется для обучения, 30% - для тестирования обученной модели"
   ]
  },
  {
   "cell_type": "code",
   "execution_count": null,
   "id": "7b45b6e4-093a-4226-a2d9-82b3c378cd9e",
   "metadata": {},
   "outputs": [],
   "source": []
  },
  {
   "cell_type": "code",
   "execution_count": null,
   "id": "b2072ec1-b9d4-49ce-828e-3ed43265e58d",
   "metadata": {},
   "outputs": [],
   "source": [
    "     "
   ]
  }
 ],
 "metadata": {
  "kernelspec": {
   "display_name": "Python 3 (ipykernel)",
   "language": "python",
   "name": "python3"
  },
  "language_info": {
   "codemirror_mode": {
    "name": "ipython",
    "version": 3
   },
   "file_extension": ".py",
   "mimetype": "text/x-python",
   "name": "python",
   "nbconvert_exporter": "python",
   "pygments_lexer": "ipython3",
   "version": "3.12.3"
  }
 },
 "nbformat": 4,
 "nbformat_minor": 5
}
