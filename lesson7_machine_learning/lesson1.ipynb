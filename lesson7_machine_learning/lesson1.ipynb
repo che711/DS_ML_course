{
 "cells": [
  {
   "cell_type": "code",
   "execution_count": 1,
   "id": "7074f8c9-b8c6-4780-a93d-571203e6909b",
   "metadata": {},
   "outputs": [
    {
     "name": "stdout",
     "output_type": "stream",
     "text": [
      "Hello, Machine Learning\n"
     ]
    }
   ],
   "source": [
    "print('Hello, Machine Learning')"
   ]
  },
  {
   "cell_type": "code",
   "execution_count": null,
   "id": "b96a33b0-27e1-499a-b60c-8c48dc55a0ab",
   "metadata": {},
   "outputs": [],
   "source": []
  }
 ],
 "metadata": {
  "kernelspec": {
   "display_name": "Python 3 (ipykernel)",
   "language": "python",
   "name": "python3"
  },
  "language_info": {
   "codemirror_mode": {
    "name": "ipython",
    "version": 3
   },
   "file_extension": ".py",
   "mimetype": "text/x-python",
   "name": "python",
   "nbconvert_exporter": "python",
   "pygments_lexer": "ipython3",
   "version": "3.12.3"
  }
 },
 "nbformat": 4,
 "nbformat_minor": 5
}
