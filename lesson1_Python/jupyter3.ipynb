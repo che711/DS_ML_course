{
 "cells": [
  {
   "cell_type": "code",
   "execution_count": 7,
   "id": "2ce3768e",
   "metadata": {},
   "outputs": [],
   "source": [
    "def my_func(name=\"NO_NAME\"):\n",
    "    \"\"\"just print 'Hello, + name'\"\"\"\n",
    "    print(f\"Hello, {name}\")"
   ]
  },
  {
   "cell_type": "code",
   "execution_count": 8,
   "id": "a9cdbd78",
   "metadata": {},
   "outputs": [
    {
     "name": "stdout",
     "output_type": "stream",
     "text": [
      "Hello, Tonny\n"
     ]
    }
   ],
   "source": [
    "my_func(\"Tonny\")"
   ]
  },
  {
   "cell_type": "code",
   "execution_count": 9,
   "id": "74b3f5cc",
   "metadata": {},
   "outputs": [
    {
     "name": "stdout",
     "output_type": "stream",
     "text": [
      "Hello, NO_NAME\n"
     ]
    }
   ],
   "source": [
    "my_func()"
   ]
  },
  {
   "cell_type": "code",
   "execution_count": 49,
   "id": "0b5b70ef",
   "metadata": {},
   "outputs": [],
   "source": [
    "def square(x):\n",
    "    return (x**2)"
   ]
  },
  {
   "cell_type": "code",
   "execution_count": 53,
   "id": "d67b11e0",
   "metadata": {},
   "outputs": [
    {
     "name": "stdout",
     "output_type": "stream",
     "text": [
      "9\n"
     ]
    }
   ],
   "source": [
    "result = square(3)\n",
    "print(result)"
   ]
  },
  {
   "cell_type": "raw",
   "id": "43a7ae85",
   "metadata": {},
   "source": [
    "print(type(result))"
   ]
  },
  {
   "cell_type": "code",
   "execution_count": 5,
   "id": "3d6e0281",
   "metadata": {},
   "outputs": [],
   "source": [
    "### lambda - похожа на функции, но не имеют названий и заускаются только один раз"
   ]
  },
  {
   "cell_type": "code",
   "execution_count": 2,
   "id": "f732ce3d",
   "metadata": {},
   "outputs": [],
   "source": [
    "def times_two(var):\n",
    "    return var*2"
   ]
  },
  {
   "cell_type": "code",
   "execution_count": 3,
   "id": "e1e8b5bf",
   "metadata": {},
   "outputs": [
    {
     "data": {
      "text/plain": [
       "22"
      ]
     },
     "execution_count": 3,
     "metadata": {},
     "output_type": "execute_result"
    }
   ],
   "source": [
    "times_two(11)"
   ]
  },
  {
   "cell_type": "code",
   "execution_count": 4,
   "id": "7be07cdb",
   "metadata": {},
   "outputs": [
    {
     "data": {
      "text/plain": [
       "<function __main__.<lambda>(var)>"
      ]
     },
     "execution_count": 4,
     "metadata": {},
     "output_type": "execute_result"
    }
   ],
   "source": [
    "lambda var: var*2"
   ]
  },
  {
   "cell_type": "code",
   "execution_count": 10,
   "id": "132857bb",
   "metadata": {},
   "outputs": [],
   "source": [
    "st = \"test Text and SomeThing ALSe\""
   ]
  },
  {
   "cell_type": "code",
   "execution_count": 11,
   "id": "c31073ab",
   "metadata": {},
   "outputs": [
    {
     "data": {
      "text/plain": [
       "'test text and something alse'"
      ]
     },
     "execution_count": 11,
     "metadata": {},
     "output_type": "execute_result"
    }
   ],
   "source": [
    "st.lower()"
   ]
  },
  {
   "cell_type": "code",
   "execution_count": 12,
   "id": "07e75cc1",
   "metadata": {},
   "outputs": [
    {
     "data": {
      "text/plain": [
       "'TEST TEXT AND SOMETHING ALSE'"
      ]
     },
     "execution_count": 12,
     "metadata": {},
     "output_type": "execute_result"
    }
   ],
   "source": [
    "st.upper()"
   ]
  },
  {
   "cell_type": "code",
   "execution_count": 14,
   "id": "cffbc303",
   "metadata": {},
   "outputs": [
    {
     "data": {
      "text/plain": [
       "['test', 'Text', 'and', 'SomeThing', 'ALSe']"
      ]
     },
     "execution_count": 14,
     "metadata": {},
     "output_type": "execute_result"
    }
   ],
   "source": [
    "st.split() # разбивает строку и превращает ее в словарь со строками"
   ]
  },
  {
   "cell_type": "code",
   "execution_count": 22,
   "id": "f15ed166",
   "metadata": {},
   "outputs": [],
   "source": [
    "tweet = \"Hello, #sports test data #just for fun\""
   ]
  },
  {
   "cell_type": "code",
   "execution_count": 23,
   "id": "7167b38e",
   "metadata": {},
   "outputs": [
    {
     "data": {
      "text/plain": [
       "['Hello,', '#sports', 'test', 'data', '#just', 'for', 'fun']"
      ]
     },
     "execution_count": 23,
     "metadata": {},
     "output_type": "execute_result"
    }
   ],
   "source": [
    "tweet.split()"
   ]
  },
  {
   "cell_type": "code",
   "execution_count": 24,
   "id": "1d11a8ab",
   "metadata": {},
   "outputs": [
    {
     "data": {
      "text/plain": [
       "['Hello, ', 'sports test data ', 'just for fun']"
      ]
     },
     "execution_count": 24,
     "metadata": {},
     "output_type": "execute_result"
    }
   ],
   "source": [
    "tweet.split('#')"
   ]
  },
  {
   "cell_type": "code",
   "execution_count": 25,
   "id": "6132bada",
   "metadata": {},
   "outputs": [
    {
     "data": {
      "text/plain": [
       "['Hello,', '#sports', 'test', 'data', '#just', 'for', 'fun']"
      ]
     },
     "execution_count": 25,
     "metadata": {},
     "output_type": "execute_result"
    }
   ],
   "source": [
    "tweet.split(' ')"
   ]
  },
  {
   "cell_type": "code",
   "execution_count": 33,
   "id": "be14fa83",
   "metadata": {},
   "outputs": [
    {
     "data": {
      "text/plain": [
       "'sports test data '"
      ]
     },
     "execution_count": 33,
     "metadata": {},
     "output_type": "execute_result"
    }
   ],
   "source": [
    "tweet.split('#')[1]\n",
    "#tweet.split('#')[-1]"
   ]
  },
  {
   "cell_type": "code",
   "execution_count": 34,
   "id": "567cdead",
   "metadata": {},
   "outputs": [],
   "source": [
    "d = {\"k1\":\"v1\", \"k2\":\"v2\"}"
   ]
  },
  {
   "cell_type": "code",
   "execution_count": 43,
   "id": "d55aef4c",
   "metadata": {},
   "outputs": [
    {
     "data": {
      "text/plain": [
       "dict_keys(['k1', 'k2'])"
      ]
     },
     "execution_count": 43,
     "metadata": {},
     "output_type": "execute_result"
    }
   ],
   "source": [
    "d.keys()"
   ]
  },
  {
   "cell_type": "code",
   "execution_count": 37,
   "id": "81c4f60f",
   "metadata": {},
   "outputs": [
    {
     "data": {
      "text/plain": [
       "dict_items([('k1', 'v1'), ('k2', 'v2')])"
      ]
     },
     "execution_count": 37,
     "metadata": {},
     "output_type": "execute_result"
    }
   ],
   "source": [
    "d.items() # словарь не хранят порядок поэтому возвращаются в произвольном виде"
   ]
  },
  {
   "cell_type": "code",
   "execution_count": 1,
   "id": "6a7042a5",
   "metadata": {},
   "outputs": [],
   "source": [
    " my_list = [1, 2, 3]"
   ]
  },
  {
   "cell_type": "code",
   "execution_count": 2,
   "id": "9593df76",
   "metadata": {},
   "outputs": [],
   "source": [
    "# извлекает **по умолчанию**последний элемент списка\n",
    "last = my_list.pop()"
   ]
  },
  {
   "cell_type": "code",
   "execution_count": 3,
   "id": "a516f46e",
   "metadata": {},
   "outputs": [
    {
     "data": {
      "text/plain": [
       "[1, 2]"
      ]
     },
     "execution_count": 3,
     "metadata": {},
     "output_type": "execute_result"
    }
   ],
   "source": [
    "my_list"
   ]
  },
  {
   "cell_type": "code",
   "execution_count": 4,
   "id": "4245639e",
   "metadata": {},
   "outputs": [
    {
     "data": {
      "text/plain": [
       "3"
      ]
     },
     "execution_count": 4,
     "metadata": {},
     "output_type": "execute_result"
    }
   ],
   "source": [
    "last"
   ]
  },
  {
   "cell_type": "code",
   "execution_count": 5,
   "id": "312b1bd7",
   "metadata": {},
   "outputs": [],
   "source": [
    "my_list=[1, 2, 3, 4]"
   ]
  },
  {
   "cell_type": "code",
   "execution_count": 6,
   "id": "e6049b2d",
   "metadata": {},
   "outputs": [
    {
     "data": {
      "text/plain": [
       "[1, 2, 3, 4]"
      ]
     },
     "execution_count": 6,
     "metadata": {},
     "output_type": "execute_result"
    }
   ],
   "source": [
    "my_list"
   ]
  },
  {
   "cell_type": "code",
   "execution_count": 7,
   "id": "818a326a",
   "metadata": {},
   "outputs": [],
   "source": [
    "# my_list.pop(0) - извлекает из списка my_list нулевой элемент и сохраняет в переменную\n",
    "first = my_list.pop(0)"
   ]
  },
  {
   "cell_type": "code",
   "execution_count": 8,
   "id": "b0636b05",
   "metadata": {},
   "outputs": [
    {
     "data": {
      "text/plain": [
       "1"
      ]
     },
     "execution_count": 8,
     "metadata": {},
     "output_type": "execute_result"
    }
   ],
   "source": [
    "first"
   ]
  },
  {
   "cell_type": "code",
   "execution_count": 9,
   "id": "6edcb78b",
   "metadata": {},
   "outputs": [
    {
     "data": {
      "text/plain": [
       "False"
      ]
     },
     "execution_count": 9,
     "metadata": {},
     "output_type": "execute_result"
    }
   ],
   "source": [
    "\"x\" in [1, 2, 3]"
   ]
  },
  {
   "cell_type": "code",
   "execution_count": 10,
   "id": "e160d1d4",
   "metadata": {},
   "outputs": [
    {
     "data": {
      "text/plain": [
       "False"
      ]
     },
     "execution_count": 10,
     "metadata": {},
     "output_type": "execute_result"
    }
   ],
   "source": [
    "\"x\" in my_list"
   ]
  },
  {
   "cell_type": "code",
   "execution_count": 11,
   "id": "ffa14206",
   "metadata": {},
   "outputs": [
    {
     "data": {
      "text/plain": [
       "True"
      ]
     },
     "execution_count": 11,
     "metadata": {},
     "output_type": "execute_result"
    }
   ],
   "source": [
    "2 in my_list"
   ]
  }
 ],
 "metadata": {
  "kernelspec": {
   "display_name": "Python 3 (ipykernel)",
   "language": "python",
   "name": "python3"
  },
  "language_info": {
   "codemirror_mode": {
    "name": "ipython",
    "version": 3
   },
   "file_extension": ".py",
   "mimetype": "text/x-python",
   "name": "python",
   "nbconvert_exporter": "python",
   "pygments_lexer": "ipython3",
   "version": "3.8.10"
  }
 },
 "nbformat": 4,
 "nbformat_minor": 5
}
