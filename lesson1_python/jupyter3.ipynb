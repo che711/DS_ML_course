{
 "cells": [
  {
   "cell_type": "code",
   "execution_count": 7,
   "id": "848c9a1d",
   "metadata": {},
   "outputs": [],
   "source": [
    "def my_func(name=\"NO_NAME\"):\n",
    "    \"\"\"just print 'Hello, + name'\"\"\"\n",
    "    print(f\"Hello, {name}\")"
   ]
  },
  {
   "cell_type": "code",
   "execution_count": 8,
   "id": "511935d6",
   "metadata": {},
   "outputs": [
    {
     "name": "stdout",
     "output_type": "stream",
     "text": [
      "Hello, Tonny\n"
     ]
    }
   ],
   "source": [
    "my_func(\"Tonny\")"
   ]
  },
  {
   "cell_type": "code",
   "execution_count": 9,
   "id": "05eb074c",
   "metadata": {},
   "outputs": [
    {
     "name": "stdout",
     "output_type": "stream",
     "text": [
      "Hello, NO_NAME\n"
     ]
    }
   ],
   "source": [
    "my_func()"
   ]
  },
  {
   "cell_type": "code",
   "execution_count": 49,
   "id": "5cf83a2c",
   "metadata": {},
   "outputs": [],
   "source": [
    "def square(x):\n",
    "    return (x**2)"
   ]
  },
  {
   "cell_type": "code",
   "execution_count": 53,
   "id": "94072e69",
   "metadata": {},
   "outputs": [
    {
     "name": "stdout",
     "output_type": "stream",
     "text": [
      "9\n"
     ]
    }
   ],
   "source": [
    "result = square(3)\n",
    "print(result)"
   ]
  },
  {
   "cell_type": "raw",
   "id": "ac644c7d",
   "metadata": {},
   "source": [
    "print(type(result))"
   ]
  },
  {
   "cell_type": "code",
   "execution_count": 5,
   "id": "b4120b60",
   "metadata": {},
   "outputs": [],
   "source": [
    "### lambda - похожа на функции, но не имеют названий и заускаются только один раз"
   ]
  },
  {
   "cell_type": "code",
   "execution_count": 2,
   "id": "c5944142",
   "metadata": {},
   "outputs": [],
   "source": [
    "def times_two(var):\n",
    "    return var*2"
   ]
  },
  {
   "cell_type": "code",
   "execution_count": 3,
   "id": "1a1edb5d",
   "metadata": {},
   "outputs": [
    {
     "data": {
      "text/plain": [
       "22"
      ]
     },
     "execution_count": 3,
     "metadata": {},
     "output_type": "execute_result"
    }
   ],
   "source": [
    "times_two(11)"
   ]
  },
  {
   "cell_type": "code",
   "execution_count": 4,
   "id": "ca9eaadc",
   "metadata": {},
   "outputs": [
    {
     "data": {
      "text/plain": [
       "<function __main__.<lambda>(var)>"
      ]
     },
     "execution_count": 4,
     "metadata": {},
     "output_type": "execute_result"
    }
   ],
   "source": [
    "lambda var: var*2"
   ]
  },
  {
   "cell_type": "code",
   "execution_count": 10,
   "id": "572b1ef1",
   "metadata": {},
   "outputs": [],
   "source": [
    "st = \"test Text and SomeThing ALSe\""
   ]
  },
  {
   "cell_type": "code",
   "execution_count": 11,
   "id": "9c49e3b6",
   "metadata": {},
   "outputs": [
    {
     "data": {
      "text/plain": [
       "'test text and something alse'"
      ]
     },
     "execution_count": 11,
     "metadata": {},
     "output_type": "execute_result"
    }
   ],
   "source": [
    "st.lower()"
   ]
  },
  {
   "cell_type": "code",
   "execution_count": 12,
   "id": "e07bd083",
   "metadata": {},
   "outputs": [
    {
     "data": {
      "text/plain": [
       "'TEST TEXT AND SOMETHING ALSE'"
      ]
     },
     "execution_count": 12,
     "metadata": {},
     "output_type": "execute_result"
    }
   ],
   "source": [
    "st.upper()"
   ]
  },
  {
   "cell_type": "code",
   "execution_count": 14,
   "id": "4b8446ec",
   "metadata": {},
   "outputs": [
    {
     "data": {
      "text/plain": [
       "['test', 'Text', 'and', 'SomeThing', 'ALSe']"
      ]
     },
     "execution_count": 14,
     "metadata": {},
     "output_type": "execute_result"
    }
   ],
   "source": [
    "st.split() # разбивает строку и превращает ее в словарь со строками"
   ]
  },
  {
   "cell_type": "code",
   "execution_count": 22,
   "id": "aa7505d2",
   "metadata": {},
   "outputs": [],
   "source": [
    "tweet = \"Hello, #sports test data #just for fun\""
   ]
  },
  {
   "cell_type": "code",
   "execution_count": 23,
   "id": "6e5f26e9",
   "metadata": {},
   "outputs": [
    {
     "data": {
      "text/plain": [
       "['Hello,', '#sports', 'test', 'data', '#just', 'for', 'fun']"
      ]
     },
     "execution_count": 23,
     "metadata": {},
     "output_type": "execute_result"
    }
   ],
   "source": [
    "tweet.split()"
   ]
  },
  {
   "cell_type": "code",
   "execution_count": 24,
   "id": "9e2c0347",
   "metadata": {},
   "outputs": [
    {
     "data": {
      "text/plain": [
       "['Hello, ', 'sports test data ', 'just for fun']"
      ]
     },
     "execution_count": 24,
     "metadata": {},
     "output_type": "execute_result"
    }
   ],
   "source": [
    "tweet.split('#')"
   ]
  },
  {
   "cell_type": "code",
   "execution_count": 25,
   "id": "38ea0dd1",
   "metadata": {},
   "outputs": [
    {
     "data": {
      "text/plain": [
       "['Hello,', '#sports', 'test', 'data', '#just', 'for', 'fun']"
      ]
     },
     "execution_count": 25,
     "metadata": {},
     "output_type": "execute_result"
    }
   ],
   "source": [
    "tweet.split(' ')"
   ]
  },
  {
   "cell_type": "code",
   "execution_count": 33,
   "id": "6518b8b2",
   "metadata": {},
   "outputs": [
    {
     "data": {
      "text/plain": [
       "'sports test data '"
      ]
     },
     "execution_count": 33,
     "metadata": {},
     "output_type": "execute_result"
    }
   ],
   "source": [
    "tweet.split('#')[1]\n",
    "#tweet.split('#')[-1]"
   ]
  },
  {
   "cell_type": "code",
   "execution_count": 34,
   "id": "d0c20de4",
   "metadata": {},
   "outputs": [],
   "source": [
    "d = {\"k1\":\"v1\", \"k2\":\"v2\"}"
   ]
  },
  {
   "cell_type": "code",
   "execution_count": 43,
   "id": "cc9a7653",
   "metadata": {},
   "outputs": [
    {
     "data": {
      "text/plain": [
       "dict_keys(['k1', 'k2'])"
      ]
     },
     "execution_count": 43,
     "metadata": {},
     "output_type": "execute_result"
    }
   ],
   "source": [
    "d.keys()"
   ]
  },
  {
   "cell_type": "code",
   "execution_count": 37,
   "id": "e397e7f0",
   "metadata": {},
   "outputs": [
    {
     "data": {
      "text/plain": [
       "dict_items([('k1', 'v1'), ('k2', 'v2')])"
      ]
     },
     "execution_count": 37,
     "metadata": {},
     "output_type": "execute_result"
    }
   ],
   "source": [
    "d.items() # словарь не хранят порядок поэтому возвращаются в произвольном виде"
   ]
  },
  {
   "cell_type": "code",
   "execution_count": 44,
   "id": "0d07fa72",
   "metadata": {},
   "outputs": [],
   "source": [
    " my_list = [1, 2, 3]"
   ]
  },
  {
   "cell_type": "code",
   "execution_count": 51,
   "id": "7861637f",
   "metadata": {},
   "outputs": [],
   "source": [
    "# извлекает **по умолчанию**последний элемент списка\n",
    "last = my_list.pop()"
   ]
  },
  {
   "cell_type": "code",
   "execution_count": 48,
   "id": "d26802c0",
   "metadata": {},
   "outputs": [
    {
     "data": {
      "text/plain": [
       "[1, 2]"
      ]
     },
     "execution_count": 48,
     "metadata": {},
     "output_type": "execute_result"
    }
   ],
   "source": [
    "my_list"
   ]
  },
  {
   "cell_type": "code",
   "execution_count": 52,
   "id": "957857d5",
   "metadata": {},
   "outputs": [
    {
     "data": {
      "text/plain": [
       "3"
      ]
     },
     "execution_count": 52,
     "metadata": {},
     "output_type": "execute_result"
    }
   ],
   "source": [
    "last"
   ]
  },
  {
   "cell_type": "code",
   "execution_count": 93,
   "id": "68c40163",
   "metadata": {},
   "outputs": [],
   "source": [
    "my_list=[1, 2, 3, 4]"
   ]
  },
  {
   "cell_type": "code",
   "execution_count": 2,
   "id": "6a6f9659",
   "metadata": {},
   "outputs": [
    {
     "ename": "NameError",
     "evalue": "name 'my_list' is not defined",
     "output_type": "error",
     "traceback": [
      "\u001b[0;31m---------------------------------------------------------------------------\u001b[0m",
      "\u001b[0;31mNameError\u001b[0m                                 Traceback (most recent call last)",
      "Cell \u001b[0;32mIn[2], line 1\u001b[0m\n\u001b[0;32m----> 1\u001b[0m \u001b[43mmy_list\u001b[49m\n",
      "\u001b[0;31mNameError\u001b[0m: name 'my_list' is not defined"
     ]
    }
   ],
   "source": [
    "my_list"
   ]
  },
  {
   "cell_type": "code",
   "execution_count": 3,
   "id": "bf83d479",
   "metadata": {},
   "outputs": [
    {
     "ename": "NameError",
     "evalue": "name 'my_list' is not defined",
     "output_type": "error",
     "traceback": [
      "\u001b[0;31m---------------------------------------------------------------------------\u001b[0m",
      "\u001b[0;31mNameError\u001b[0m                                 Traceback (most recent call last)",
      "Cell \u001b[0;32mIn[3], line 2\u001b[0m\n\u001b[1;32m      1\u001b[0m \u001b[38;5;66;03m# my_list.pop(0) - извлекает из списка my_list нулевой элемент и сохраняет в переменную\u001b[39;00m\n\u001b[0;32m----> 2\u001b[0m first \u001b[38;5;241m=\u001b[39m \u001b[43mmy_list\u001b[49m\u001b[38;5;241m.\u001b[39mpop(\u001b[38;5;241m0\u001b[39m)\n",
      "\u001b[0;31mNameError\u001b[0m: name 'my_list' is not defined"
     ]
    }
   ],
   "source": [
    "# my_list.pop(0) - извлекает из списка my_list нулевой элемент и сохраняет в переменную\n",
    "first = my_list.pop(0)"
   ]
  },
  {
   "cell_type": "code",
   "execution_count": 96,
   "id": "fa4370a4",
   "metadata": {},
   "outputs": [
    {
     "data": {
      "text/plain": [
       "1"
      ]
     },
     "execution_count": 96,
     "metadata": {},
     "output_type": "execute_result"
    }
   ],
   "source": [
    "first"
   ]
  },
  {
   "cell_type": "code",
   "execution_count": 97,
   "id": "b2ee20c4",
   "metadata": {},
   "outputs": [
    {
     "data": {
      "text/plain": [
       "False"
      ]
     },
     "execution_count": 97,
     "metadata": {},
     "output_type": "execute_result"
    }
   ],
   "source": [
    "\"x\" in [1, 2, 3]"
   ]
  },
  {
   "cell_type": "code",
   "execution_count": 98,
   "id": "16fa551d",
   "metadata": {},
   "outputs": [
    {
     "data": {
      "text/plain": [
       "False"
      ]
     },
     "execution_count": 98,
     "metadata": {},
     "output_type": "execute_result"
    }
   ],
   "source": [
    "\"x\" in my_list"
   ]
  },
  {
   "cell_type": "code",
   "execution_count": 1,
   "id": "0787a3bf",
   "metadata": {},
   "outputs": [
    {
     "ename": "NameError",
     "evalue": "name 'my_list' is not defined",
     "output_type": "error",
     "traceback": [
      "\u001b[0;31m---------------------------------------------------------------------------\u001b[0m",
      "\u001b[0;31mNameError\u001b[0m                                 Traceback (most recent call last)",
      "Cell \u001b[0;32mIn[1], line 1\u001b[0m\n\u001b[0;32m----> 1\u001b[0m \u001b[38;5;241m2\u001b[39m \u001b[38;5;129;01min\u001b[39;00m \u001b[43mmy_list\u001b[49m\n",
      "\u001b[0;31mNameError\u001b[0m: name 'my_list' is not defined"
     ]
    }
   ],
   "source": [
    "2 in my_list"
   ]
  },
  {
   "cell_type": "code",
   "execution_count": null,
   "id": "2270f24b",
   "metadata": {},
   "outputs": [],
   "source": []
  }
 ],
 "metadata": {
  "kernelspec": {
   "display_name": "Python 3 (ipykernel)",
   "language": "python",
   "name": "python3"
  },
  "language_info": {
   "codemirror_mode": {
    "name": "ipython",
    "version": 3
   },
   "file_extension": ".py",
   "mimetype": "text/x-python",
   "name": "python",
   "nbconvert_exporter": "python",
   "pygments_lexer": "ipython3",
   "version": "3.10.14"
  }
 },
 "nbformat": 4,
 "nbformat_minor": 5
}
