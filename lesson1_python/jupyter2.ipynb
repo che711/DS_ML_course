{
 "cells": [
  {
   "cell_type": "code",
   "execution_count": 1,
   "id": "26e27a61",
   "metadata": {},
   "outputs": [
    {
     "name": "stdout",
     "output_type": "stream",
     "text": [
      "test\n"
     ]
    }
   ],
   "source": [
    "print(\"test\")"
   ]
  },
  {
   "cell_type": "code",
   "execution_count": 2,
   "id": "375b6098",
   "metadata": {},
   "outputs": [
    {
     "data": {
      "text/plain": [
       "False"
      ]
     },
     "execution_count": 2,
     "metadata": {},
     "output_type": "execute_result"
    }
   ],
   "source": [
    "1>2"
   ]
  },
  {
   "cell_type": "code",
   "execution_count": 3,
   "id": "9e47d454",
   "metadata": {},
   "outputs": [
    {
     "data": {
      "text/plain": [
       "True"
      ]
     },
     "execution_count": 3,
     "metadata": {},
     "output_type": "execute_result"
    }
   ],
   "source": [
    "3<8"
   ]
  },
  {
   "cell_type": "code",
   "execution_count": 9,
   "id": "d19371a4",
   "metadata": {},
   "outputs": [
    {
     "data": {
      "text/plain": [
       "True"
      ]
     },
     "execution_count": 9,
     "metadata": {},
     "output_type": "execute_result"
    }
   ],
   "source": [
    "2<=9"
   ]
  },
  {
   "cell_type": "code",
   "execution_count": 7,
   "id": "843d6ef8",
   "metadata": {},
   "outputs": [
    {
     "data": {
      "text/plain": [
       "False"
      ]
     },
     "execution_count": 7,
     "metadata": {},
     "output_type": "execute_result"
    }
   ],
   "source": [
    "\"f\" == \"F\""
   ]
  },
  {
   "cell_type": "code",
   "execution_count": 8,
   "id": "d9318456",
   "metadata": {},
   "outputs": [
    {
     "data": {
      "text/plain": [
       "True"
      ]
     },
     "execution_count": 8,
     "metadata": {},
     "output_type": "execute_result"
    }
   ],
   "source": [
    "\"f\" == \"f\""
   ]
  },
  {
   "cell_type": "code",
   "execution_count": 12,
   "id": "65fcc144",
   "metadata": {},
   "outputs": [
    {
     "data": {
      "text/plain": [
       "False"
      ]
     },
     "execution_count": 12,
     "metadata": {},
     "output_type": "execute_result"
    }
   ],
   "source": [
    "(1 ==1)and(\"a\"==\"a\")"
   ]
  },
  {
   "cell_type": "code",
   "execution_count": 13,
   "id": "40aa038f",
   "metadata": {},
   "outputs": [
    {
     "data": {
      "text/plain": [
       "True"
      ]
     },
     "execution_count": 13,
     "metadata": {},
     "output_type": "execute_result"
    }
   ],
   "source": [
    "(1 ==1)and(\"a\"==\"a\")"
   ]
  },
  {
   "cell_type": "code",
   "execution_count": 14,
   "id": "b0038a75",
   "metadata": {},
   "outputs": [
    {
     "data": {
      "text/plain": [
       "True"
      ]
     },
     "execution_count": 14,
     "metadata": {},
     "output_type": "execute_result"
    }
   ],
   "source": [
    "(1 ==1)or(\"a\"==\"a\")"
   ]
  },
  {
   "cell_type": "code",
   "execution_count": 16,
   "id": "9e66119d",
   "metadata": {},
   "outputs": [
    {
     "data": {
      "text/plain": [
       "True"
      ]
     },
     "execution_count": 16,
     "metadata": {},
     "output_type": "execute_result"
    }
   ],
   "source": [
    "(1 == 3)or(\"a\"==\"a\")"
   ]
  },
  {
   "cell_type": "code",
   "execution_count": 17,
   "id": "02237abc",
   "metadata": {},
   "outputs": [
    {
     "data": {
      "text/plain": [
       "False"
      ]
     },
     "execution_count": 17,
     "metadata": {},
     "output_type": "execute_result"
    }
   ],
   "source": [
    "(1 == 3)or(\"a\"==\"d\")"
   ]
  },
  {
   "cell_type": "code",
   "execution_count": 20,
   "id": "1527762c",
   "metadata": {},
   "outputs": [],
   "source": [
    "if (1 == 1):\n",
    "    print(\"Done\")"
   ]
  },
  {
   "cell_type": "code",
   "execution_count": 22,
   "id": "237c49c6",
   "metadata": {},
   "outputs": [
    {
     "name": "stdout",
     "output_type": "stream",
     "text": [
      "Not done\n"
     ]
    }
   ],
   "source": [
    "if (1 == 2):\n",
    "    print(\"Done\")\n",
    "else:\n",
    "    print(\"Not done\")"
   ]
  },
  {
   "cell_type": "code",
   "execution_count": 24,
   "id": "5ff2e39f",
   "metadata": {},
   "outputs": [
    {
     "name": "stdout",
     "output_type": "stream",
     "text": [
      "The second condition\n"
     ]
    }
   ],
   "source": [
    "if 1 == 2:\n",
    "    print(\"Done\")\n",
    "elif 3 == 3:\n",
    "    print(\"The second condition\")\n",
    "else:\n",
    "    print(\"Not done\")"
   ]
  },
  {
   "cell_type": "code",
   "execution_count": 25,
   "id": "81d482f9",
   "metadata": {},
   "outputs": [
    {
     "name": "stdout",
     "output_type": "stream",
     "text": [
      "Not done\n"
     ]
    }
   ],
   "source": [
    "if 1 == 2:\n",
    "    print(\"Done\")\n",
    "elif 3 == 4:\n",
    "    print(\"The second condition\")\n",
    "else:\n",
    "    print(\"Not done\")"
   ]
  },
  {
   "cell_type": "code",
   "execution_count": 26,
   "id": "3f497278",
   "metadata": {},
   "outputs": [],
   "source": [
    "seq =[1,2,3,4,5]"
   ]
  },
  {
   "cell_type": "code",
   "execution_count": 31,
   "id": "bde29f8a",
   "metadata": {},
   "outputs": [
    {
     "name": "stdout",
     "output_type": "stream",
     "text": [
      "1\n",
      "2\n",
      "3\n",
      "4\n",
      "5\n"
     ]
    }
   ],
   "source": [
    "for item in seq: print(item)"
   ]
  },
  {
   "cell_type": "code",
   "execution_count": 32,
   "id": "24e436f0",
   "metadata": {},
   "outputs": [
    {
     "name": "stdout",
     "output_type": "stream",
     "text": [
      "2\n",
      "3\n",
      "4\n",
      "5\n",
      "6\n"
     ]
    }
   ],
   "source": [
    "for item in seq:\n",
    "    print(item+1)"
   ]
  },
  {
   "cell_type": "code",
   "execution_count": 33,
   "id": "96f0c853",
   "metadata": {},
   "outputs": [
    {
     "name": "stdout",
     "output_type": "stream",
     "text": [
      "2\n",
      "4\n",
      "6\n",
      "8\n",
      "10\n"
     ]
    }
   ],
   "source": [
    "for item in seq:\n",
    "    print(item+item)"
   ]
  },
  {
   "cell_type": "code",
   "execution_count": 2,
   "id": "aa021541",
   "metadata": {},
   "outputs": [
    {
     "name": "stdout",
     "output_type": "stream",
     "text": [
      "goods equal 1\n",
      "goods equal 2\n",
      "goods equal 3\n",
      "goods equal 4\n"
     ]
    }
   ],
   "source": [
    "goods = 1\n",
    "while goods < 5:\n",
    "    print(f'goods equal {goods}')\n",
    "    goods = goods + 1\n",
    "# хз почему не работает. надо инвестигать"
   ]
  },
  {
   "cell_type": "code",
   "execution_count": 3,
   "id": "ca544a04",
   "metadata": {},
   "outputs": [],
   "source": [
    "#  shift + tab --> показывает док-стрингу метода/функции в jupyter-notebooks\n",
    "\n",
    "x = [1,2,3,4,]"
   ]
  },
  {
   "cell_type": "code",
   "execution_count": 4,
   "id": "90a72902",
   "metadata": {},
   "outputs": [
    {
     "data": {
      "text/plain": [
       "range(0, 5)"
      ]
     },
     "execution_count": 4,
     "metadata": {},
     "output_type": "execute_result"
    }
   ],
   "source": [
    " range(5)"
   ]
  },
  {
   "cell_type": "code",
   "execution_count": 5,
   "id": "96425dba-4bcd-4cf0-be8c-ffd57c54901d",
   "metadata": {},
   "outputs": [
    {
     "data": {
      "text/plain": [
       "[0, 1, 2, 3, 4]"
      ]
     },
     "execution_count": 5,
     "metadata": {},
     "output_type": "execute_result"
    }
   ],
   "source": [
    "list(range(5))"
   ]
  },
  {
   "cell_type": "code",
   "execution_count": 6,
   "id": "a4061b1e-1696-4070-950b-3837564ab399",
   "metadata": {},
   "outputs": [
    {
     "name": "stdout",
     "output_type": "stream",
     "text": [
      "0\n",
      "1\n",
      "2\n",
      "3\n",
      "4\n"
     ]
    }
   ],
   "source": [
    "for x in range(5): print(x)"
   ]
  },
  {
   "cell_type": "code",
   "execution_count": 7,
   "id": "5a7deb3d-dea7-40a0-ade0-e10d5defcc9c",
   "metadata": {},
   "outputs": [],
   "source": [
    "x = [1, 2, 3, 4, 5]"
   ]
  },
  {
   "cell_type": "code",
   "execution_count": 14,
   "id": "48de69b1-0e55-4e72-a969-f5e3659e6dd1",
   "metadata": {},
   "outputs": [
    {
     "name": "stdout",
     "output_type": "stream",
     "text": [
      "[1, 4, 9, 16, 25]\n"
     ]
    }
   ],
   "source": [
    "# просто цикл for\n",
    "\n",
    "out = []\n",
    "for num in x: out.append(num**2)\n",
    "print(out)"
   ]
  },
  {
   "cell_type": "code",
   "execution_count": 15,
   "id": "7885c296-49eb-4665-945e-a3d4e7953b1a",
   "metadata": {},
   "outputs": [
    {
     "data": {
      "text/plain": [
       "[1, 4, 9, 16, 25]"
      ]
     },
     "execution_count": 15,
     "metadata": {},
     "output_type": "execute_result"
    }
   ],
   "source": [
    "# генератор цикла выше\n",
    "\n",
    "[num**2 for num in x]"
   ]
  },
  {
   "cell_type": "code",
   "execution_count": null,
   "id": "17397438-f972-47c6-8414-f1b7991d3aab",
   "metadata": {},
   "outputs": [],
   "source": []
  }
 ],
 "metadata": {
  "kernelspec": {
   "display_name": "Python 3 (ipykernel)",
   "language": "python",
   "name": "python3"
  },
  "language_info": {
   "codemirror_mode": {
    "name": "ipython",
    "version": 3
   },
   "file_extension": ".py",
   "mimetype": "text/x-python",
   "name": "python",
   "nbconvert_exporter": "python",
   "pygments_lexer": "ipython3",
   "version": "3.12.2"
  }
 },
 "nbformat": 4,
 "nbformat_minor": 5
}
